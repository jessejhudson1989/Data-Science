{
  "nbformat": 4,
  "nbformat_minor": 0,
  "metadata": {
    "colab": {
      "provenance": [],
      "mount_file_id": "1LoEuDaaNxmy3visTomOzwMDyt0ypSGmr",
      "authorship_tag": "ABX9TyNzkk8j/jnAsrL7d7tsIaQD",
      "include_colab_link": true
    },
    "kernelspec": {
      "name": "python3",
      "display_name": "Python 3"
    },
    "language_info": {
      "name": "python"
    }
  },
  "cells": [
    {
      "cell_type": "markdown",
      "metadata": {
        "id": "view-in-github",
        "colab_type": "text"
      },
      "source": [
        "<a href=\"https://colab.research.google.com/github/jessejhudson1989/Data-Science/blob/main/Movie_Ratings_Dataset.ipynb\" target=\"_parent\"><img src=\"https://colab.research.google.com/assets/colab-badge.svg\" alt=\"Open In Colab\"/></a>"
      ]
    },
    {
      "cell_type": "code",
      "execution_count": null,
      "metadata": {
        "id": "Px7SynC2lrrQ"
      },
      "outputs": [],
      "source": [
        "import pandas as pd\n",
        "import numpy as np"
      ]
    },
    {
      "cell_type": "code",
      "source": [
        "from google.colab import drive\n",
        "drive.mount('/content/drive')"
      ],
      "metadata": {
        "colab": {
          "base_uri": "https://localhost:8080/"
        },
        "id": "adyvt0V7l2YZ",
        "outputId": "514cc242-cf51-41d1-d4ce-e0e6702f284a"
      },
      "execution_count": null,
      "outputs": [
        {
          "output_type": "stream",
          "name": "stdout",
          "text": [
            "Drive already mounted at /content/drive; to attempt to forcibly remount, call drive.mount(\"/content/drive\", force_remount=True).\n"
          ]
        }
      ]
    },
    {
      "cell_type": "code",
      "source": [
        "df = pd.read_csv('/content/drive/MyDrive/Datasets/movie_ratings.csv')\n",
        "print(df.head())"
      ],
      "metadata": {
        "colab": {
          "base_uri": "https://localhost:8080/"
        },
        "id": "f5-llMz3m5Oy",
        "outputId": "06fc6a52-a201-4565-f850-b2773159ea1f"
      },
      "execution_count": null,
      "outputs": [
        {
          "output_type": "stream",
          "name": "stdout",
          "text": [
            "   movie_id  rating\n",
            "0         1       5\n",
            "1         2       3\n",
            "2         3       4\n",
            "3         4       2\n",
            "4         5       5\n"
          ]
        }
      ]
    },
    {
      "cell_type": "code",
      "source": [
        "#calculate the mean\n",
        "mean_rating = df['rating'].mean()\n",
        "print(f\"Mean rating: {mean_rating}\")"
      ],
      "metadata": {
        "colab": {
          "base_uri": "https://localhost:8080/"
        },
        "id": "mxWAdIGMnbFD",
        "outputId": "c42dcb1d-f5ac-4733-b0f4-096ee9f71010"
      },
      "execution_count": null,
      "outputs": [
        {
          "output_type": "stream",
          "name": "stdout",
          "text": [
            "Mean rating: 3.5\n"
          ]
        }
      ]
    },
    {
      "cell_type": "code",
      "source": [
        "#calculate median\n",
        "median_rating = df['rating'].median\n",
        "print(f\"Median Rating: {median_rating}\")"
      ],
      "metadata": {
        "colab": {
          "base_uri": "https://localhost:8080/"
        },
        "id": "lV_UxAyloec1",
        "outputId": "bc9709c7-7c4f-4ac9-cdbf-ac3ceff184b2"
      },
      "execution_count": null,
      "outputs": [
        {
          "output_type": "stream",
          "name": "stdout",
          "text": [
            "Median Rating: <bound method Series.median of 0    5\n",
            "1    3\n",
            "2    4\n",
            "3    2\n",
            "4    5\n",
            "5    3\n",
            "6    5\n",
            "7    1\n",
            "8    4\n",
            "9    3\n",
            "Name: rating, dtype: int64>\n"
          ]
        }
      ]
    },
    {
      "cell_type": "code",
      "source": [
        "mode_rating = df['rating'].mode()[0]\n",
        "print(f\"Mode Rating: {mode_rating}\")"
      ],
      "metadata": {
        "colab": {
          "base_uri": "https://localhost:8080/"
        },
        "id": "WFuz9eMTrIPn",
        "outputId": "5306aba3-10a9-4505-d82f-e7238b79422b"
      },
      "execution_count": null,
      "outputs": [
        {
          "output_type": "stream",
          "name": "stdout",
          "text": [
            "Mode Rating: 3\n"
          ]
        }
      ]
    }
  ]
}